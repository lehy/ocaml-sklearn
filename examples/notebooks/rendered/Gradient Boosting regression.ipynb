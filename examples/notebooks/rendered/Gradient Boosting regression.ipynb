{
 "cells": [
  {
   "cell_type": "markdown",
   "metadata": {},
   "source": [
    "# Gradient Boosting Regression\n",
    "\n",
    "Demonstrate Gradient Boosting on the Boston housing dataset.\n",
    "\n",
    "This example fits a Gradient Boosting model with least squares loss and 500 regression trees of depth 4.\n",
    "\n",
    "This is a port to OCaml of the [scikit-learn gradient boosting regression example](https://scikit-learn.org/stable/auto_examples/ensemble/plot_gradient_boosting_regression.html#sphx-glr-auto-examples-ensemble-plot-gradient-boosting-regression-py)."
   ]
  },
  {
   "cell_type": "code",
   "execution_count": 1,
   "metadata": {
    "scrolled": true
   },
   "outputs": [
    {
     "name": "stderr",
     "output_type": "stream",
     "text": [
      "/home/rlehy/.opam/4.07.1+flambda/lib/ocaml/unix.cma: loaded\n",
      "/home/rlehy/.opam/4.07.1+flambda/lib/seq: added to search path\n",
      "/home/rlehy/.opam/4.07.1+flambda/lib/uchar: added to search path\n",
      "/home/rlehy/.opam/4.07.1+flambda/lib/stdcompat: added to search path\n",
      "/home/rlehy/.opam/4.07.1+flambda/lib/stdcompat/stdcompat.cma: loaded\n",
      "/home/rlehy/.opam/4.07.1+flambda/lib/pyml: added to search path\n",
      "/home/rlehy/.opam/4.07.1+flambda/lib/pyml/pyml.cma: loaded\n",
      "/home/rlehy/.opam/4.07.1+flambda/lib/pyml/numpy.cma: loaded\n",
      "/home/rlehy/.opam/4.07.1+flambda/lib/base/caml: added to search path\n",
      "/home/rlehy/.opam/4.07.1+flambda/lib/base/caml/caml.cma: loaded\n",
      "/home/rlehy/.opam/4.07.1+flambda/lib/base/shadow_stdlib: added to search path\n",
      "/home/rlehy/.opam/4.07.1+flambda/lib/base/shadow_stdlib/shadow_stdlib.cma: loaded\n",
      "/home/rlehy/.opam/4.07.1+flambda/lib/sexplib0: added to search path\n",
      "/home/rlehy/.opam/4.07.1+flambda/lib/sexplib0/sexplib0.cma: loaded\n",
      "/home/rlehy/.opam/4.07.1+flambda/lib/base: added to search path\n",
      "/home/rlehy/.opam/4.07.1+flambda/lib/base/base.cma: loaded\n",
      "/home/rlehy/.opam/4.07.1+flambda/lib/matplotlib: added to search path\n",
      "/home/rlehy/.opam/4.07.1+flambda/lib/matplotlib/matplotlib.cma: loaded\n",
      "/home/rlehy/.opam/4.07.1+flambda/lib/bytes: added to search path\n",
      "/home/rlehy/.opam/4.07.1+flambda/lib/base64: added to search path\n",
      "/home/rlehy/.opam/4.07.1+flambda/lib/base64/base64.cma: loaded\n",
      "/home/rlehy/.opam/4.07.1+flambda/lib/ocaml/compiler-libs: added to search path\n",
      "/home/rlehy/.opam/4.07.1+flambda/lib/ocaml/compiler-libs/ocamlcommon.cma: loaded\n",
      "/home/rlehy/.opam/4.07.1+flambda/lib/result: added to search path\n",
      "/home/rlehy/.opam/4.07.1+flambda/lib/result/result.cma: loaded\n",
      "/home/rlehy/.opam/4.07.1+flambda/lib/ppx_deriving/runtime: added to search path\n",
      "/home/rlehy/.opam/4.07.1+flambda/lib/ppx_deriving/runtime/ppx_deriving_runtime.cma: loaded\n",
      "/home/rlehy/.opam/4.07.1+flambda/lib/ppx_deriving_yojson/runtime: added to search path\n",
      "/home/rlehy/.opam/4.07.1+flambda/lib/ppx_deriving_yojson/runtime/ppx_deriving_yojson_runtime.cma: loaded\n",
      "/home/rlehy/.opam/4.07.1+flambda/lib/uuidm: added to search path\n",
      "/home/rlehy/.opam/4.07.1+flambda/lib/uuidm/uuidm.cma: loaded\n",
      "/home/rlehy/.opam/4.07.1+flambda/lib/easy-format: added to search path\n",
      "/home/rlehy/.opam/4.07.1+flambda/lib/easy-format/easy_format.cma: loaded\n",
      "/home/rlehy/.opam/4.07.1+flambda/lib/biniou: added to search path\n",
      "/home/rlehy/.opam/4.07.1+flambda/lib/biniou/biniou.cma: loaded\n",
      "/home/rlehy/.opam/4.07.1+flambda/lib/yojson: added to search path\n",
      "/home/rlehy/.opam/4.07.1+flambda/lib/yojson/yojson.cma: loaded\n",
      "/home/rlehy/.opam/4.07.1+flambda/lib/jupyter: added to search path\n",
      "/home/rlehy/.opam/4.07.1+flambda/lib/jupyter/jupyter.cma: loaded\n",
      "/home/rlehy/.opam/4.07.1+flambda/lib/jupyter/notebook: added to search path\n",
      "/home/rlehy/.opam/4.07.1+flambda/lib/jupyter/notebook/jupyter_notebook.cma: loaded\n",
      "/home/rlehy/.opam/4.07.1+flambda/lib/fieldslib: added to search path\n",
      "/home/rlehy/.opam/4.07.1+flambda/lib/fieldslib/fieldslib.cma: loaded\n",
      "/home/rlehy/.opam/4.07.1+flambda/lib/ppx_compare/runtime-lib: added to search path\n",
      "/home/rlehy/.opam/4.07.1+flambda/lib/ppx_compare/runtime-lib/ppx_compare_lib.cma: loaded\n",
      "/home/rlehy/.opam/4.07.1+flambda/lib/ppx_enumerate/runtime-lib: added to search path\n",
      "/home/rlehy/.opam/4.07.1+flambda/lib/ppx_enumerate/runtime-lib/ppx_enumerate_lib.cma: loaded\n",
      "/home/rlehy/.opam/4.07.1+flambda/lib/ppx_sexp_conv/runtime-lib: added to search path\n",
      "/home/rlehy/.opam/4.07.1+flambda/lib/ppx_sexp_conv/runtime-lib/ppx_sexp_conv_lib.cma: loaded\n",
      "/home/rlehy/.opam/4.07.1+flambda/lib/ppx_hash/runtime-lib: added to search path\n",
      "/home/rlehy/.opam/4.07.1+flambda/lib/ppx_hash/runtime-lib/ppx_hash_lib.cma: loaded\n",
      "/home/rlehy/.opam/4.07.1+flambda/lib/ppx_assert/runtime-lib: added to search path\n",
      "/home/rlehy/.opam/4.07.1+flambda/lib/ppx_assert/runtime-lib/ppx_assert_lib.cma: loaded\n",
      "/home/rlehy/.opam/4.07.1+flambda/lib/ppx_bench/runtime-lib: added to search path\n",
      "/home/rlehy/.opam/4.07.1+flambda/lib/ppx_bench/runtime-lib/ppx_bench_lib.cma: loaded\n",
      "/home/rlehy/.opam/4.07.1+flambda/lib/ppx_inline_test/config: added to search path\n",
      "/home/rlehy/.opam/4.07.1+flambda/lib/ppx_inline_test/config/inline_test_config.cma: loaded\n",
      "/home/rlehy/.opam/4.07.1+flambda/lib/ppx_inline_test/runtime-lib: added to search path\n",
      "/home/rlehy/.opam/4.07.1+flambda/lib/ppx_inline_test/runtime-lib/ppx_inline_test_lib.cma: loaded\n",
      "/home/rlehy/.opam/4.07.1+flambda/lib/splittable_random: added to search path\n",
      "/home/rlehy/.opam/4.07.1+flambda/lib/splittable_random/splittable_random.cma: loaded\n",
      "/home/rlehy/.opam/4.07.1+flambda/lib/base_quickcheck: added to search path\n",
      "/home/rlehy/.opam/4.07.1+flambda/lib/base_quickcheck/base_quickcheck.cma: loaded\n",
      "/home/rlehy/.opam/4.07.1+flambda/lib/base/md5: added to search path\n",
      "/home/rlehy/.opam/4.07.1+flambda/lib/base/md5/md5_lib.cma: loaded\n",
      "/home/rlehy/.opam/4.07.1+flambda/lib/ocaml/bigarray.cma: loaded\n",
      "/home/rlehy/.opam/4.07.1+flambda/lib/variantslib: added to search path\n",
      "/home/rlehy/.opam/4.07.1+flambda/lib/variantslib/variantslib.cma: loaded\n",
      "/home/rlehy/.opam/4.07.1+flambda/lib/bin_prot/shape: added to search path\n",
      "/home/rlehy/.opam/4.07.1+flambda/lib/bin_prot/shape/bin_shape_lib.cma: loaded\n",
      "/home/rlehy/.opam/4.07.1+flambda/lib/bin_prot: added to search path\n",
      "/home/rlehy/.opam/4.07.1+flambda/lib/bin_prot/bin_prot.cma: loaded\n",
      "/home/rlehy/.opam/4.07.1+flambda/lib/ppx_expect/common: added to search path\n",
      "/home/rlehy/.opam/4.07.1+flambda/lib/ppx_expect/common/expect_test_common.cma: loaded\n",
      "/home/rlehy/.opam/4.07.1+flambda/lib/ppx_expect/config: added to search path\n",
      "/home/rlehy/.opam/4.07.1+flambda/lib/ppx_expect/config/expect_test_config.cma: loaded\n",
      "/home/rlehy/.opam/4.07.1+flambda/lib/ppx_expect/collector: added to search path\n",
      "/home/rlehy/.opam/4.07.1+flambda/lib/ppx_expect/collector/expect_test_collector.cma: loaded\n",
      "/home/rlehy/.opam/4.07.1+flambda/lib/stdio: added to search path\n",
      "/home/rlehy/.opam/4.07.1+flambda/lib/stdio/stdio.cma: loaded\n",
      "/home/rlehy/.opam/4.07.1+flambda/lib/jane-street-headers: added to search path\n",
      "/home/rlehy/.opam/4.07.1+flambda/lib/jane-street-headers/jane_street_headers.cma: loaded\n",
      "/home/rlehy/.opam/4.07.1+flambda/lib/time_now: added to search path\n",
      "/home/rlehy/.opam/4.07.1+flambda/lib/time_now/time_now.cma: loaded\n",
      "/home/rlehy/.opam/4.07.1+flambda/lib/ppx_module_timer/runtime: added to search path\n",
      "/home/rlehy/.opam/4.07.1+flambda/lib/ppx_module_timer/runtime/ppx_module_timer_runtime.cma: loaded\n",
      "/home/rlehy/.opam/4.07.1+flambda/lib/typerep: added to search path\n",
      "/home/rlehy/.opam/4.07.1+flambda/lib/typerep/typerep_lib.cma: loaded\n",
      "/home/rlehy/.opam/4.07.1+flambda/lib/base_bigstring: added to search path\n",
      "/home/rlehy/.opam/4.07.1+flambda/lib/base_bigstring/base_bigstring.cma: loaded\n",
      "/home/rlehy/.opam/4.07.1+flambda/lib/core_kernel/base_for_tests: added to search path\n",
      "/home/rlehy/.opam/4.07.1+flambda/lib/core_kernel/base_for_tests/base_for_tests.cma: loaded\n",
      "/home/rlehy/.opam/4.07.1+flambda/lib/parsexp: added to search path\n",
      "/home/rlehy/.opam/4.07.1+flambda/lib/parsexp/parsexp.cma: loaded\n",
      "/home/rlehy/.opam/4.07.1+flambda/lib/sexplib: added to search path\n",
      "/home/rlehy/.opam/4.07.1+flambda/lib/sexplib/sexplib.cma: loaded\n",
      "/home/rlehy/.opam/4.07.1+flambda/lib/core_kernel: added to search path\n",
      "/home/rlehy/.opam/4.07.1+flambda/lib/core_kernel/core_kernel.cma: loaded\n",
      "/home/rlehy/.opam/4.07.1+flambda/lib/sexplib/unix: added to search path\n",
      "/home/rlehy/.opam/4.07.1+flambda/lib/sexplib/unix/sexplib_unix.cma: loaded\n",
      "/home/rlehy/.opam/4.07.1+flambda/lib/spawn: added to search path\n",
      "/home/rlehy/.opam/4.07.1+flambda/lib/spawn/spawn.cma: loaded\n",
      "/home/rlehy/.opam/4.07.1+flambda/lib/core: added to search path\n",
      "/home/rlehy/.opam/4.07.1+flambda/lib/core/core.cma: loaded\n",
      "/home/rlehy/.opam/4.07.1+flambda/lib/shell/shell_internal: added to search path\n",
      "/home/rlehy/.opam/4.07.1+flambda/lib/shell/shell_internal/shell_internal.cma: loaded\n",
      "/home/rlehy/.opam/4.07.1+flambda/lib/core_kernel/rope: added to search path\n",
      "/home/rlehy/.opam/4.07.1+flambda/lib/core_kernel/rope/rope.cma: loaded\n",
      "/home/rlehy/.opam/4.07.1+flambda/lib/re2/c: added to search path\n",
      "/home/rlehy/.opam/4.07.1+flambda/lib/re2/c/re2_c.cma: loaded\n",
      "/home/rlehy/.opam/4.07.1+flambda/lib/re2: added to search path\n",
      "/home/rlehy/.opam/4.07.1+flambda/lib/re2/re2.cma: loaded\n",
      "/home/rlehy/.opam/4.07.1+flambda/lib/shell/unix_extended: added to search path\n",
      "/home/rlehy/.opam/4.07.1+flambda/lib/shell/unix_extended/unix_extended.cma: loaded\n",
      "/home/rlehy/.opam/4.07.1+flambda/lib/shell/low_level_process: added to search path\n",
      "/home/rlehy/.opam/4.07.1+flambda/lib/shell/low_level_process/low_level_process.cma: loaded\n",
      "/home/rlehy/.opam/4.07.1+flambda/lib/textutils/console: added to search path\n",
      "/home/rlehy/.opam/4.07.1+flambda/lib/textutils/console/console.cma: loaded\n",
      "/home/rlehy/.opam/4.07.1+flambda/lib/shell: added to search path\n",
      "/home/rlehy/.opam/4.07.1+flambda/lib/shell/shell.cma: loaded\n"
     ]
    }
   ],
   "source": [
    "#require \"pyml\"\n",
    "#require \"matplotlib\"\n",
    "#require \"jupyter.notebook\"\n",
    "#require \"shell\""
   ]
  },
  {
   "cell_type": "code",
   "execution_count": 2,
   "metadata": {},
   "outputs": [
    {
     "data": {
      "text/plain": [
       "val plot : unit -> unit = <fun>\n"
      ]
     },
     "execution_count": 2,
     "metadata": {},
     "output_type": "execute_result"
    }
   ],
   "source": [
    "open Matplotlib;;\n",
    "let plot () =\n",
    "  let data = Mpl.plot_data `png in\n",
    "  ignore (Jupyter_notebook.display ~base64:true \"image/png\" data);;\n",
    "\n",
    "let () =\n",
    "    Mpl.set_backend Agg\n",
    ";;"
   ]
  },
  {
   "cell_type": "code",
   "execution_count": 3,
   "metadata": {},
   "outputs": [
    {
     "data": {
      "text/plain": [
       "val root : string = \"/home/rlehy/projects/ocaml-sklearn2\"\n"
      ]
     },
     "execution_count": 3,
     "metadata": {},
     "output_type": "execute_result"
    },
    {
     "data": {
      "text/plain": [
       "- : unit = ()\n"
      ]
     },
     "execution_count": 3,
     "metadata": {},
     "output_type": "execute_result"
    },
    {
     "data": {
      "text/plain": [
       "module Np = Np.Numpy\n"
      ]
     },
     "execution_count": 3,
     "metadata": {},
     "output_type": "execute_result"
    }
   ],
   "source": [
    "(* load sklearn from the current git repo (build first with dune build @install) *)\n",
    "let root = String.trim @@ Shell.run_full \"git\" [\"rev-parse\"; \"--show-toplevel\"];;\n",
    "List.iter (fun component ->\n",
    "    let libdir = root ^ \"/_build/install/default/lib/\" ^ component in\n",
    "    Topdirs.dir_directory libdir) [\"np\"; \"scipy\"; \"sklearn\"];;\n",
    "#load \"np.cma\";;\n",
    "#load \"scipy.cma\";;\n",
    "#load \"sklearn.cma\";;\n",
    "module Np = Np.Numpy;;"
   ]
  },
  {
   "cell_type": "code",
   "execution_count": 4,
   "metadata": {},
   "outputs": [],
   "source": [
    "(* it would be nice if the OCaml kernel installed printers automatically like utop *)\n",
    "#install_printer Np.Obj.pp;;\n",
    "(* #install_printer Sklearn.Ensemble.GradientBoostingRegressor.pp;;*)"
   ]
  },
  {
   "cell_type": "markdown",
   "metadata": {},
   "source": [
    "## Load data"
   ]
  },
  {
   "cell_type": "code",
   "execution_count": 5,
   "metadata": {
    "scrolled": true
   },
   "outputs": [
    {
     "data": {
      "text/plain": [
       "val boston :\n",
       "  < data : _[> `ArrayLike ] Np.Obj.t; descr : string;\n",
       "    feature_names : string list; filename : string;\n",
       "    target : _[> `ArrayLike ] Np.Obj.t > =\n",
       "  <obj>\n"
      ]
     },
     "execution_count": 5,
     "metadata": {},
     "output_type": "execute_result"
    },
    {
     "data": {
      "text/plain": [
       "val x : _[> `ArrayLike ] Np.Obj.t =\n",
       "  [[1.50234e+01 0.00000e+00 1.81000e+01 ... 2.02000e+01 3.49480e+02\n",
       "  2.49100e+01]\n",
       " [5.44114e+00 0.00000e+00 1.81000e+01 ... 2.02000e+01 3.55290e+02\n",
       "  1.77300e+01]\n",
       " [1.00245e+00 0.00000e+00 8.14000e+00 ... 2.10000e+01 3.80230e+02\n",
       "  1.19800e+01]\n",
       " ...\n",
       " [7.89600e-02 0.00000e+00 1.28300e+01 ... 1.87000e+01 3.94920e+02\n",
       "  6.78000e+00]\n",
       " [7.02200e-02 0.00000e+00 4.05000e+00 ... 1.66000e+01 3.93230e+02\n",
       "  1.01100e+01]\n",
       " [3.30600e-02 0.00000e+00 5.19000e+00 ... 2.02000e+01 3.96140e+02\n",
       "  8.51000e+00]]\n",
       "val y : _[> `ArrayLike ] Np.Obj.t =\n",
       "  [12.  15.2 21.  24.  19.4 22.2 23.3 15.6 20.8 13.8 19.6 27.1 36.5 15.2\n",
       " 11.7 14.1 17.2 16.8 32.9 21.4 32.4 23.5 20.4 13.1 12.6 10.4 50.  23.1\n",
       " 13.4 24.3 25.   7.4  7.  22.  15.3  8.4 16.4 18.1 43.8  8.5 18.6 21.1\n",
       " 50.  11.8 17.4 33.3 14.8  8.8 26.6 16.8 30.1 23.7 50.  19.5 16.1 24.1\n",
       " 20.4 36.4 41.3 21.7 21.7 14.  21.7 20.4 20.  34.7 24.5 11.7 14.3 13.1\n",
       " 17.4 20.1 19.5 21.  30.1 18.4 34.6 20.1 43.5 21.6 18.3 21.4 18.9 13.4\n",
       " 30.8 25.  25.2  8.8 31.1 13.4 48.3 17.8  5.6 12.7 16.1 20.9 19.9 13.9\n",
       " 22.6 21.2 21.2 22.9 20.5 22.8 19.4 21.7 23.1 26.5 18.5 20.2 27.5 50.\n",
       " 21.9 23.4 32.7 14.9 15.6 20.3 11.9 30.5 31.6 21.9 25.  23.  17.   7.2\n",
       " 44.8 16.  38.7 20.4 22.5 21.7 12.7  5.  21.4 23.7 21.  19.5 20.1 24.6\n",
       " 36.1 23.  18.5 32.5 19.1 23.3 18.5 21.5 19.3 26.4 31.  22.3 13.3  7.\n",
       " 22.5 27.5 30.1 10.2 20.  25.  17.8 13.8 32.  23.7 23.8 16.7 23.8 18.8\n",
       " 22.  29.  21.2 33.1 30.7 24.8 21.7 37.6 23.1 22.9 13.6 14.6 18.9 22.6\n",
       " 31.7 19.4 12.7 20.1 30.3 18.8  8.1 20.6 33.2 21.1 31.5 20.   8.5 22.2\n",
       " 24.8 50.  21.7 24.  15.  13.5  9.7 18.9 22.6 29.6 20.6 24.3 16.2 19.6\n",
       " 35.1 17.5 12.5 22.2 22.9 34.9 28.  17.4  7.2 23.4 21.2 27.9 20.2 22.7\n",
       " 26.2 50.  32.  20.7 15.  17.2 23.1 10.9 21.5 17.2 35.2 10.9 23.8 17.8\n",
       " 25.  10.5 26.6 11.9 20.3 21.9 14.5 10.8 23.1 25.  14.9  6.3 24.2 13.2\n",
       " 24.7 19.8 18.5 23.9 29.6 18.7 29.1 10.5 32.2 50.  35.4  7.5 16.3 25.\n",
       " 25.3 19.1 28.7 14.3 23.1 19.8 17.5 20.   8.3 23.2 26.7 17.8 19.3 18.\n",
       " 10.2 22.2 28.4 21.2 11.  34.9 36.2 19.7 22.5 18.7 29.  13.5 22.4 18.4\n",
       " 36.2 28.6 14.1 33.  50.  19.1 24.7 24.5 19.  23.3 22.9 28.2 24.1 26.4\n",
       " 50.  48.5 11.3 29.4 10.2 13.6 13.  24.4 15.6  9.6 22.3 19.9 46.7 19.2\n",
       " 20.7 24.4  5.  22.8 19.1 29.8 13.8 18.2 46.  18.3 29.8 14.2 21.4 19.6\n",
       " 19.3 20.  24.8 37.9 24.8 24.6 22.6 16.1 10.4 14.1 23.9 50.  25.  19.6\n",
       " 18.6 16.5 33.4 19.4 20.6 15.4 20.5 22.4 28.7 20.5 18.2 19.3 24.4 22.\n",
       " 13.8 14.5 50.  41.7 22.  20.8 12.3 42.8 23.6 23.9 23.  14.4 22.8 50.\n",
       " 16.6 19.9 20.1 24.7 22.1 12.1 42.3 17.1 24.4 29.9 17.1 22.  20.6 35.4\n",
       " 33.4 19.  34.9 15.1 22.  33.8  8.7 27.9 33.2 37.3  7.2 19.7 31.6 50.\n",
       " 12.8 22.7 23.3 13.3 20.3 24.5 19.6 16.6 11.8 50.  13.9 20.8 19.5 33.1\n",
       " 14.4 19.3 16.2 13.1 23.9 19.2 20.6 21.8 20.3 23.6 28.7 26.6 44.  43.1\n",
       " 14.6 27.5 16.7 37.  19.8 29.1 27.5 23.2 13.3 50.  50.  16.5 23.7 14.9\n",
       " 48.8 17.3 23.2 22.2  9.5 18.7 20.9 15.6 28.4 28.1 31.2 13.1 37.2 22.\n",
       " 11.5 13.8 39.8 28.5 15.2 23.8 19.4 27.1 18.9 17.9 45.4 15.6 21.6 21.4\n",
       " 19.9 17.8 23.  15.4  8.3 27.  36.  22.8 17.1 22.6 23.9 17.7 31.5  8.4\n",
       " 14.5 13.4 15.7 17.5 15.  21.8 18.4 25.1 19.4 17.6 18.2 24.3 23.1 24.1\n",
       " 23.2 20.6]\n"
      ]
     },
     "execution_count": 5,
     "metadata": {},
     "output_type": "execute_result"
    },
    {
     "data": {
      "text/plain": [
       "val offset : int = 455\n"
      ]
     },
     "execution_count": 5,
     "metadata": {},
     "output_type": "execute_result"
    },
    {
     "data": {
      "text/plain": [
       "val x_train : Np.Ndarray.t =\n",
       "  [[1.50234e+01 0.00000e+00 1.81000e+01 ... 2.02000e+01 3.49480e+02\n",
       "  2.49100e+01]\n",
       " [5.44114e+00 0.00000e+00 1.81000e+01 ... 2.02000e+01 3.55290e+02\n",
       "  1.77300e+01]\n",
       " [1.00245e+00 0.00000e+00 8.14000e+00 ... 2.10000e+01 3.80230e+02\n",
       "  1.19800e+01]\n",
       " ...\n",
       " [9.33889e+00 0.00000e+00 1.81000e+01 ... 2.02000e+01 6.07200e+01\n",
       "  2.40800e+01]\n",
       " [2.22120e-01 0.00000e+00 1.00100e+01 ... 1.78000e+01 3.96900e+02\n",
       "  1.70900e+01]\n",
       " [3.54800e-02 8.00000e+01 3.64000e+00 ... 1.64000e+01 3.95180e+02\n",
       "  9.25000e+00]]\n"
      ]
     },
     "execution_count": 5,
     "metadata": {},
     "output_type": "execute_result"
    },
    {
     "data": {
      "text/plain": [
       "val y_train : Np.Ndarray.t =\n",
       "  [12.  15.2 21.  24.  19.4 22.2 23.3 15.6 20.8 13.8 19.6 27.1 36.5 15.2\n",
       " 11.7 14.1 17.2 16.8 32.9 21.4 32.4 23.5 20.4 13.1 12.6 10.4 50.  23.1\n",
       " 13.4 24.3 25.   7.4  7.  22.  15.3  8.4 16.4 18.1 43.8  8.5 18.6 21.1\n",
       " 50.  11.8 17.4 33.3 14.8  8.8 26.6 16.8 30.1 23.7 50.  19.5 16.1 24.1\n",
       " 20.4 36.4 41.3 21.7 21.7 14.  21.7 20.4 20.  34.7 24.5 11.7 14.3 13.1\n",
       " 17.4 20.1 19.5 21.  30.1 18.4 34.6 20.1 43.5 21.6 18.3 21.4 18.9 13.4\n",
       " 30.8 25.  25.2  8.8 31.1 13.4 48.3 17.8  5.6 12.7 16.1 20.9 19.9 13.9\n",
       " 22.6 21.2 21.2 22.9 20.5 22.8 19.4 21.7 23.1 26.5 18.5 20.2 27.5 50.\n",
       " 21.9 23.4 32.7 14.9 15.6 20.3 11.9 30.5 31.6 21.9 25.  23.  17.   7.2\n",
       " 44.8 16.  38.7 20.4 22.5 21.7 12.7  5.  21.4 23.7 21.  19.5 20.1 24.6\n",
       " 36.1 23.  18.5 32.5 19.1 23.3 18.5 21.5 19.3 26.4 31.  22.3 13.3  7.\n",
       " 22.5 27.5 30.1 10.2 20.  25.  17.8 13.8 32.  23.7 23.8 16.7 23.8 18.8\n",
       " 22.  29.  21.2 33.1 30.7 24.8 21.7 37.6 23.1 22.9 13.6 14.6 18.9 22.6\n",
       " 31.7 19.4 12.7 20.1 30.3 18.8  8.1 20.6 33.2 21.1 31.5 20.   8.5 22.2\n",
       " 24.8 50.  21.7 24.  15.  13.5  9.7 18.9 22.6 29.6 20.6 24.3 16.2 19.6\n",
       " 35.1 17.5 12.5 22.2 22.9 34.9 28.  17.4  7.2 23.4 21.2 27.9 20.2 22.7\n",
       " 26.2 50.  32.  20.7 15.  17.2 23.1 10.9 21.5 17.2 35.2 10.9 23.8 17.8\n",
       " 25.  10.5 26.6 11.9 20.3 21.9 14.5 10.8 23.1 25.  14.9  6.3 24.2 13.2\n",
       " 24.7 19.8 18.5 23.9 29.6 18.7 29.1 10.5 32.2 50.  35.4  7.5 16.3 25.\n",
       " 25.3 19.1 28.7 14.3 23.1 19.8 17.5 20.   8.3 23.2 26.7 17.8 19.3 18.\n",
       " 10.2 22.2 28.4 21.2 11.  34.9 36.2 19.7 22.5 18.7 29.  13.5 22.4 18.4\n",
       " 36.2 28.6 14.1 33.  50.  19.1 24.7 24.5 19.  23.3 22.9 28.2 24.1 26.4\n",
       " 50.  48.5 11.3 29.4 10.2 13.6 13.  24.4 15.6  9.6 22.3 19.9 46.7 19.2\n",
       " 20.7 24.4  5.  22.8 19.1 29.8 13.8 18.2 46.  18.3 29.8 14.2 21.4 19.6\n",
       " 19.3 20.  24.8 37.9 24.8 24.6 22.6 16.1 10.4 14.1 23.9 50.  25.  19.6\n",
       " 18.6 16.5 33.4 19.4 20.6 15.4 20.5 22.4 28.7 20.5 18.2 19.3 24.4 22.\n",
       " 13.8 14.5 50.  41.7 22.  20.8 12.3 42.8 23.6 23.9 23.  14.4 22.8 50.\n",
       " 16.6 19.9 20.1 24.7 22.1 12.1 42.3 17.1 24.4 29.9 17.1 22.  20.6 35.4\n",
       " 33.4 19.  34.9 15.1 22.  33.8  8.7 27.9 33.2 37.3  7.2 19.7 31.6 50.\n",
       " 12.8 22.7 23.3 13.3 20.3 24.5 19.6 16.6 11.8 50.  13.9 20.8 19.5 33.1\n",
       " 14.4 19.3 16.2 13.1 23.9 19.2 20.6 21.8 20.3 23.6 28.7 26.6 44.  43.1\n",
       " 14.6 27.5 16.7 37.  19.8 29.1 27.5 23.2 13.3 50.  50.  16.5 23.7 14.9\n",
       " 48.8 17.3 23.2 22.2  9.5 18.7 20.9]\n"
      ]
     },
     "execution_count": 5,
     "metadata": {},
     "output_type": "execute_result"
    },
    {
     "data": {
      "text/plain": [
       "val x_test : Np.Ndarray.t =\n",
       "  [[7.50260e-01 0.00000e+00 8.14000e+00 0.00000e+00 5.38000e-01 5.92400e+00\n",
       "  9.41000e+01 4.39960e+00 4.00000e+00 3.07000e+02 2.10000e+01 3.94330e+02\n",
       "  1.63000e+01]\n",
       " [5.47900e-02 3.30000e+01 2.18000e+00 0.00000e+00 4.72000e-01 6.61600e+00\n",
       "  5.81000e+01 3.37000e+00 7.00000e+00 2.22000e+02 1.84000e+01 3.93360e+02\n",
       "  8.93000e+00]\n",
       " [1.40520e-01 0.00000e+00 1.05900e+01 0.00000e+00 4.89000e-01 6.37500e+00\n",
       "  3.23000e+01 3.94540e+00 4.00000e+00 2.77000e+02 1.86000e+01 3.85810e+02\n",
       "  9.38000e+00]\n",
       " [3.04900e-02 5.50000e+01 3.78000e+00 0.00000e+00 4.84000e-01 6.87400e+00\n",
       "  2.81000e+01 6.46540e+00 5.00000e+00 3.70000e+02 1.76000e+01 3.87970e+02\n",
       "  4.61000e+00]\n",
       " [2.36482e+01 0.00000e+00 1.81000e+01 0.00000e+00 6.71000e-01 6.38000e+00\n",
       "  9.62000e+01 1.38610e+00 2.40000e+01 6.66000e+02 2.02000e+01 3.96900e+02\n",
       "  2.36900e+01]\n",
       " [5.78000e-02 0.00000e+00 2.46000e+00 0.00000e+00 4.88000e-01 6.98000e+00\n",
       "  5.84000e+01 2.82900e+00 3.00000e+00 1.93000e+02 1.78000e+01 3.96900e+02\n",
       "  5.04000e+00]\n",
       " [6.89900e-02 0.00000e+00 2.56500e+01 0.00000e+00 5.81000e-01 5.87000e+00\n",
       "  6.97000e+01 2.25770e+00 2.00000e+00 1.88000e+02 1.91000e+01 3.89150e+02\n",
       "  1.43700e+01]\n",
       " [8.15174e+00 0.00000e+00 1.81000e+01 0.00000e+00 7.00000e-01 5.39000e+00\n",
       "  9.89000e+01 1.72810e+00 2.40000e+01 6.66000e+02 2.02000e+01 3.96900e+02\n",
       "  2.08500e+01]\n",
       " [1.11081e+01 0.00000e+00 1.81000e+01 0.00000e+00 6.68000e-01 4.90600e+00\n",
       "  1.00000e+02 1.17420e+00 2.40000e+01 6.66000e+02 2.02000e+01 3.96900e+02\n",
       "  3.47700e+01]\n",
       " [6.58800e-02 0.00000e+00 2.46000e+00 0.00000e+00 4.88000e-01 7.76500e+00\n",
       "  8.33000e+01 2.74100e+00 3.00000e+00 1.93000e+02 1.78000e+01 3.95560e+02\n",
       "  7.56000e+00]\n",
       " [3.50200e-02 8.00000e+01 4.95000e+00 0.00000e+00 4.11000e-01 6.86100e+00\n",
       "  2.79000e+01 5.11670e+00 4.00000e+00 2.45000e+02 1.92000e+01 3.96900e+02\n",
       "  3.33000e+00]\n",
       " [1.23247e+00 0.00000e+00 8.14000e+00 0.00000e+00 5.38000e-01 6.14200e+00\n",
       "  9.17000e+01 3.97690e+00 4.00000e+00 3.07000e+02 2.10000e+01 3.96900e+02\n",
       "  1.87200e+01]\n",
       " [3.69200e-01 0.00000e+00 9.90000e+00 0.00000e+00 5.44000e-01 6.56700e+00\n",
       "  8.73000e+01 3.60230e+00 4.00000e+00 3.04000e+02 1.84000e+01 3.95690e+02\n",
       "  9.28000e+00]\n",
       " [3.46600e-02 3.50000e+01 6.06000e+00 0.00000e+00 4.37900e-01 6.03100e+00\n",
       "  2.33000e+01 6.64070e+00 1.00000e+00 3.04000e+02 1.69000e+01 3.62250e+02\n",
       "  7.83000e+00]\n",
       " [5.37200e-02 0.00000e+00 1.39200e+01 0.00000e+00 4.37000e-01 6.54900e+00\n",
       "  5.10000e+01 5.96040e+00 4.00000e+00 2.89000e+02 1.60000e+01 3.92850e+02\n",
       "  7.39000e+00]\n",
       " [1.17470e-01 1.25000e+01 7.87000e+00 0.00000e+00 5.24000e-01 6.00900e+00\n",
       "  8.29000e+01 6.22670e+00 5.00000e+00 3.11000e+02 1.52000e+01 3.96900e+02\n",
       "  1.32700e+01]\n",
       " [1.88110e+01 0.00000e+00 1.81000e+01 0.00000e+00 5.97000e-01 4.62800e+00\n",
       "  1.00000e+02 1.55390e+00 2.40000e+01 6.66000e+02 2.02000e+01 2.87900e+01\n",
       "  3.43700e+01]\n",
       " [3.57800e-02 2.00000e+01 3.33000e+00 0.00000e+00 4.42900e-01 7.82000e+00\n",
       "  6.45000e+01 4.69470e+00 5.00000e+00 2.16000e+02 1.49000e+01 3.87310e+02\n",
       "  3.76000e+00]\n",
       " [2.15505e+00 0.00000e+00 1.95800e+01 0.00000e+00 8.71000e-01 5.62800e+00\n",
       "  1.00000e+02 1.51660e+00 5.00000e+00 4.03000e+02 1.47000e+01 1.69270e+02\n",
       "  1.66500e+01]\n",
       " [2.73100e-02 0.00000e+00 7.07000e+00 0.00000e+00 4.69000e-01 6.42100e+00\n",
       "  7.89000e+01 4.96710e+00 2.00000e+00 2.42000e+02 1.78000e+01 3.96900e+02\n",
       "  9.14000e+00]\n",
       " [9.51200e-02 0.00000e+00 1.28300e+01 0.00000e+00 4.37000e-01 6.28600e+00\n",
       "  4.50000e+01 4.50260e+00 5.00000e+00 3.98000e+02 1.87000e+01 3.83230e+02\n",
       "  8.94000e+00]\n",
       " [4.34879e+00 0.00000e+00 1.81000e+01 0.00000e+00 5.80000e-01 6.16700e+00\n",
       "  8.40000e+01 3.03340e+00 2.40000e+01 6.66000e+02 2.02000e+01 3.96900e+02\n",
       "  1.62900e+01]\n",
       " [5.44520e-01 0.00000e+00 2.18900e+01 0.00000e+00 6.24000e-01 6.15100e+00\n",
       "  9.79000e+01 1.66870e+00 4.00000e+00 4.37000e+02 2.12000e+01 3.96900e+02\n",
       "  1.84600e+01]\n",
       " [5.82401e+00 0.00000e+00 1.81000e+01 0.00000e+00 5.32000e-01 6.24200e+00\n",
       "  6.47000e+01 3.42420e+00 2.40000e+01 6.66000e+02 2.02000e+01 3.96900e+02\n",
       "  1.07400e+01]\n",
       " [2.73397e+00 0.00000e+00 1.95800e+01 0.00000e+00 8.71000e-01 5.59700e+00\n",
       "  9.49000e+01 1.52570e+00 5.00000e+00 4.03000e+02 1.47000e+01 3.51850e+02\n",
       "  2.14500e+01]\n",
       " [2.48017e+01 0.00000e+00 1.81000e+01 0.00000e+00 6.93000e-01 5.34900e+00\n",
       "  9.60000e+01 1.70280e+00 2.40000e+01 6.66000e+02 2.02000e+01 3.96900e+02\n",
       "  1.97700e+01]\n",
       " [1.27346e+00 0.00000e+00 1.95800e+01 1.00000e+00 6.05000e-01 6.25000e+00\n",
       "  9.26000e+01 1.79840e+00 5.00000e+00 4.03000e+02 1.47000e+01 3.38920e+02\n",
       "  5.50000e+00]\n",
       " [6.63510e-01 2.00000e+01 3.97000e+00 0.00000e+00 6.47000e-01 7.33300e+00\n",
       "  1.00000e+02 1.89460e+00 5.00000e+00 2.64000e+02 1.30000e+01 3.83290e+02\n",
       "  7.79000e+00]\n",
       " [4.92980e-01 0.00000e+00 9.90000e+00 0.00000e+00 5.44000e-01 6.63500e+00\n",
       "  8.25000e+01 3.31750e+00 4.00000e+00 3.04000e+02 1.84000e+01 3.96900e+02\n",
       "  4.54000e+00]\n",
       " [5.02300e-02 3.50000e+01 6.06000e+00 0.00000e+00 4.37900e-01 5.70600e+00\n",
       "  2.84000e+01 6.64070e+00 1.00000e+00 3.04000e+02 1.69000e+01 3.94020e+02\n",
       "  1.24300e+01]\n",
       " [6.72400e-02 0.00000e+00 3.24000e+00 0.00000e+00 4.60000e-01 6.33300e+00\n",
       "  1.72000e+01 5.21460e+00 4.00000e+00 4.30000e+02 1.69000e+01 3.75210e+02\n",
       "  7.34000e+00]\n",
       " [6.07600e-02 0.00000e+00 1.19300e+01 0.00000e+00 5.73000e-01 6.97600e+00\n",
       "  9.10000e+01 2.16750e+00 1.00000e+00 2.73000e+02 2.10000e+01 3.96900e+02\n",
       "  5.64000e+00]\n",
       " [3.69311e+00 0.00000e+00 1.81000e+01 0.00000e+00 7.13000e-01 6.37600e+00\n",
       "  8.84000e+01 2.56710e+00 2.40000e+01 6.66000e+02 2.02000e+01 3.91430e+02\n",
       "  1.46500e+01]\n",
       " [4.41780e-01 0.00000e+00 6.20000e+00 0.00000e+00 5.04000e-01 6.55200e+00\n",
       "  2.14000e+01 3.37510e+00 8.00000e+00 3.07000e+02 1.74000e+01 3.80340e+02\n",
       "  3.76000e+00]\n",
       " [1.36781e+01 0.00000e+00 1.81000e+01 0.00000e+00 7.40000e-01 5.93500e+00\n",
       "  8.79000e+01 1.82060e+00 2.40000e+01 6.66000e+02 2.02000e+01 6.89500e+01\n",
       "  3.40200e+01]\n",
       " [8.49213e+00 0.00000e+00 1.81000e+01 0.00000e+00 5.84000e-01 6.34800e+00\n",
       "  8.61000e+01 2.05270e+00 2.40000e+01 6.66000e+02 2.02000e+01 8.34500e+01\n",
       "  1.76400e+01]\n",
       " [6.71772e+00 0.00000e+00 1.81000e+01 0.00000e+00 7.13000e-01 6.74900e+00\n",
       "  9.26000e+01 2.32360e+00 2.40000e+01 6.66000e+02 2.02000e+01 3.20000e-01\n",
       "  1.74400e+01]\n",
       " [3.87350e-01 0.00000e+00 2.56500e+01 0.00000e+00 5.81000e-01 5.61300e+00\n",
       "  9.56000e+01 1.75720e+00 2.00000e+00 1.88000e+02 1.91000e+01 3.59290e+02\n",
       "  2.72600e+01]\n",
       " [1.77830e-01 0.00000e+00 9.69000e+00 0.00000e+00 5.85000e-01 5.56900e+00\n",
       "  7.35000e+01 2.39990e+00 6.00000e+00 3.91000e+02 1.92000e+01 3.95770e+02\n",
       "  1.51000e+01]\n",
       " [5.11358e+01 0.00000e+00 1.81000e+01 0.00000e+00 5.97000e-01 5.75700e+00\n",
       "  1.00000e+02 1.41300e+00 2.40000e+01 6.66000e+02 2.02000e+01 2.60000e+00\n",
       "  1.01100e+01]\n",
       " [2.81838e+00 0.00000e+00 1.81000e+01 0.00000e+00 5.32000e-01 5.76200e+00\n",
       "  4.03000e+01 4.09830e+00 2.40000e+01 6.66000e+02 2.02000e+01 3.92920e+02\n",
       "  1.04200e+01]\n",
       " [5.66637e+00 0.00000e+00 1.81000e+01 0.00000e+00 7.40000e-01 6.21900e+00\n",
       "  1.00000e+02 2.00480e+00 2.40000e+01 6.66000e+02 2.02000e+01 3.95690e+02\n",
       "  1.65900e+01]\n",
       " [5.20580e-01 0.00000e+00 6.20000e+00 1.00000e+00 5.07000e-01 6.63100e+00\n",
       "  7.65000e+01 4.14800e+00 8.00000e+00 3.07000e+02 1.74000e+01 3.88450e+02\n",
       "  9.54000e+00]\n",
       " [2.14918e+00 0.00000e+00 1.95800e+01 0.00000e+00 8.71000e-01 5.70900e+00\n",
       "  9.85000e+01 1.62320e+00 5.00000e+00 4.03000e+02 1.47000e+01 2.61950e+02\n",
       "  1.57900e+01]\n",
       " [2.06080e-01 2.20000e+01 5.86000e+00 0.00000e+00 4.31000e-01 5.59300e+00\n",
       "  7.65000e+01 7.95490e+00 7.00000e+00 3.30000e+02 1.91000e+01 3.72490e+02\n",
       "  1.25000e+01]\n",
       " [4.30100e-02 8.00000e+01 1.91000e+00 0.00000e+00 4.13000e-01 5.66300e+00\n",
       "  2.19000e+01 1.05857e+01 4.00000e+00 3.34000e+02 2.20000e+01 3.82800e+02\n",
       "  8.05000e+00]\n",
       " [5.37000e-01 0.00000e+00 6.20000e+00 0.00000e+00 5.04000e-01 5.98100e+00\n",
       "  6.81000e+01 3.67150e+00 8.00000e+00 3.07000e+02 1.74000e+01 3.78350e+02\n",
       "  1.16500e+01]\n",
       " [1.05393e+00 0.00000e+00 8.14000e+00 0.00000e+00 5.38000e-01 5.93500e+00\n",
       "  2.93000e+01 4.49860e+00 4.00000e+00 3.07000e+02 2.10000e+01 3.86850e+02\n",
       "  6.58000e+00]\n",
       " [7.89600e-02 0.00000e+00 1.28300e+01 0.00000e+00 4.37000e-01 6.27300e+00\n",
       "  6.00000e+00 4.25150e+00 5.00000e+00 3.98000e+02 1.87000e+01 3.94920e+02\n",
       "  6.78000e+00]\n",
       " [7.02200e-02 0.00000e+00 4.05000e+00 0.00000e+00 5.10000e-01 6.02000e+00\n",
       "  4.72000e+01 3.55490e+00 5.00000e+00 2.96000e+02 1.66000e+01 3.93230e+02\n",
       "  1.01100e+01]\n",
       " [3.30600e-02 0.00000e+00 5.19000e+00 0.00000e+00 5.15000e-01 6.05900e+00\n",
       "  3.73000e+01 4.81220e+00 5.00000e+00 2.24000e+02 2.02000e+01 3.96140e+02\n",
       "  8.51000e+00]]\n"
      ]
     },
     "execution_count": 5,
     "metadata": {},
     "output_type": "execute_result"
    },
    {
     "data": {
      "text/plain": [
       "val y_test : Np.Ndarray.t =\n",
       "  [15.6 28.4 28.1 31.2 13.1 37.2 22.  11.5 13.8 39.8 28.5 15.2 23.8 19.4\n",
       " 27.1 18.9 17.9 45.4 15.6 21.6 21.4 19.9 17.8 23.  15.4  8.3 27.  36.\n",
       " 22.8 17.1 22.6 23.9 17.7 31.5  8.4 14.5 13.4 15.7 17.5 15.  21.8 18.4\n",
       " 25.1 19.4 17.6 18.2 24.3 23.1 24.1 23.2 20.6]\n"
      ]
     },
     "execution_count": 5,
     "metadata": {},
     "output_type": "execute_result"
    }
   ],
   "source": [
    "(* The Python source does a custom split using shuffle(). The equivalent with train_test_split is simpler (see below) ,\n",
    "   but it is nice to reproduce the numerical results and graphics. *)\n",
    "   \n",
    "(* (* the recommended simpler version *)\n",
    "  let [@ocaml.warning \"-8\"] [x_train; x_test; y_train; y_test] =\n",
    "  Sklearn.Model_selection.train_test_split [boston#data; boston#target] ~random_state:42 ~train_size:(`F 0.9);; *)\n",
    "\n",
    "let boston = Sklearn.Datasets.load_boston();;\n",
    "\n",
    "let [@ocaml.warning \"-8\"] [x; y] = Sklearn.Utils.shuffle [boston#data; boston#target] ~random_state:13;;\n",
    "let offset = int_of_float @@ (float_of_int (Np.shape x).(0)) *. 0.9;;\n",
    "let x_train = Np.Ndarray.(get ~key:[slice ~j:offset ()] x);;\n",
    "let y_train = Np.Ndarray.(get ~key:[slice ~j:offset ()] y);;\n",
    "let x_test = Np.Ndarray.(get ~key:[slice ~i:offset ()] x);;\n",
    "let y_test = Np.Ndarray.(get ~key:[slice ~i:offset ()] y);"
   ]
  },
  {
   "cell_type": "markdown",
   "metadata": {},
   "source": [
    "## Fit regression model"
   ]
  },
  {
   "cell_type": "code",
   "execution_count": 6,
   "metadata": {},
   "outputs": [
    {
     "data": {
      "text/plain": [
       "val get_f : [> `F of 'a ] -> 'a = <fun>\n"
      ]
     },
     "execution_count": 6,
     "metadata": {},
     "output_type": "execute_result"
    },
    {
     "data": {
      "text/plain": [
       "val n_estimators : int = 500\n"
      ]
     },
     "execution_count": 6,
     "metadata": {},
     "output_type": "execute_result"
    },
    {
     "data": {
      "text/plain": [
       "module Gbr = Sklearn.Ensemble.GradientBoostingRegressor\n"
      ]
     },
     "execution_count": 6,
     "metadata": {},
     "output_type": "execute_result"
    },
    {
     "data": {
      "text/plain": [
       "val clf : Gbr.t =\n",
       "  GradientBoostingRegressor(alpha=0.9, ccp_alpha=0.0, criterion='friedman_mse',\n",
       "                          init=None, learning_rate=0.01, loss='ls', max_depth=4,\n",
       "                          max_features=None, max_leaf_nodes=None,\n",
       "                          min_impurity_decrease=0.0, min_impurity_split=None,\n",
       "                          min_samples_leaf=1, min_samples_split=2,\n",
       "                          min_weight_fraction_leaf=0.0, n_estimators=500,\n",
       "                          n_iter_no_change=None, presort='deprecated',\n",
       "                          random_state=None, subsample=1.0, tol=0.0001,\n",
       "                          validation_fraction=0.1, verbose=0, warm_start=False)\n"
      ]
     },
     "execution_count": 6,
     "metadata": {},
     "output_type": "execute_result"
    },
    {
     "name": "stdout",
     "output_type": "stream",
     "text": [
      "MSE: 6.8892\n"
     ]
    },
    {
     "data": {
      "text/plain": [
       "- : unit = ()\n"
      ]
     },
     "execution_count": 6,
     "metadata": {},
     "output_type": "execute_result"
    }
   ],
   "source": [
    "let get_f = function `F x -> x | _ -> assert false;;\n",
    "\n",
    "let n_estimators = 500;;\n",
    "\n",
    "module Gbr = Sklearn.Ensemble.GradientBoostingRegressor;;\n",
    "let clf =\n",
    "  Gbr.(create ~n_estimators ~max_depth:4 ~min_samples_split:(`I 2) ~learning_rate:0.01 ~loss:`Ls()\n",
    "       |> fit ~x:x_train ~y:y_train);;\n",
    "\n",
    "let mse = Sklearn.Metrics.mean_squared_error ~y_true:y_test ~y_pred:(Gbr.predict clf ~x:x_test) () |> fun x -> (Np.Ndarray.to_float_array x).(0) in\n",
    "Printf.printf \"MSE: %.4f\\n%!\" mse;;"
   ]
  },
  {
   "cell_type": "markdown",
   "metadata": {},
   "source": [
    "## Plot training deviance"
   ]
  },
  {
   "cell_type": "code",
   "execution_count": 7,
   "metadata": {},
   "outputs": [
    {
     "data": {
      "text/plain": [
       "val protect : (unit -> 'a) -> 'a = <fun>\n"
      ]
     },
     "execution_count": 7,
     "metadata": {},
     "output_type": "execute_result"
    },
    {
     "data": {
      "text/plain": [
       "val set_yticks : Matplotlib__Fig_ax.Ax.t -> 'a Np.Obj.t -> unit = <fun>\n"
      ]
     },
     "execution_count": 7,
     "metadata": {},
     "output_type": "execute_result"
    },
    {
     "data": {
      "text/plain": [
       "val set_yticklabels : Matplotlib__Fig_ax.Ax.t -> 'a Np.Obj.t -> unit = <fun>\n"
      ]
     },
     "execution_count": 7,
     "metadata": {},
     "output_type": "execute_result"
    },
    {
     "data": {
      "text/plain": [
       "val barh : Matplotlib__Fig_ax.Ax.t -> 'a Np.Obj.t -> 'b Np.Obj.t -> unit =\n",
       "  <fun>\n"
      ]
     },
     "execution_count": 7,
     "metadata": {},
     "output_type": "execute_result"
    },
    {
     "data": {
      "image/png": "[encoded data removed]"
     },
     "metadata": {},
     "output_type": "display_data"
    },
    {
     "data": {
      "text/plain": [
       "- : unit = ()\n"
      ]
     },
     "execution_count": 7,
     "metadata": {},
     "output_type": "execute_result"
    }
   ],
   "source": [
    "let protect f =\n",
    "  try f()\n",
    "  with (Py.E (a, b)) as exc -> Printf.printf \"error: %s\\n%s\\n%!\" (Py.Object.to_string a) (Py.Object.to_string b); raise exc\n",
    "\n",
    "(* let call_loss ~y ~raw_predictions loss =\n",
    "  Py.Callable.to_function loss [|Sklearn.Arr.to_pyobject y; Sklearn.Arr.to_pyobject raw_predictions|] |> Py.Float.to_float;; *)\n",
    "\n",
    "(* TODO: contribute this to ocaml-matplotlib *)\n",
    "let set_yticks ax ticks =\n",
    "  let _ = Py.Module.get_function (Ax.Expert.to_pyobject ax) \"set_yticks\" [|Np.Obj.to_pyobject ticks|] in ();;\n",
    " \n",
    "let set_yticklabels ax labels =\n",
    "  let _ = Py.Module.get_function (Ax.Expert.to_pyobject ax) \"set_yticklabels\" [|Np.Obj.to_pyobject labels|] in ();;\n",
    "\n",
    "(* Axes.barh(self, y, width, height=0.8, left=None, *, align='center', **kwargs)[source]) *)\n",
    "let barh ax y width =\n",
    "  let _ = Py.Module.get_function (Ax.Expert.to_pyobject ax) \"barh\" [|Np.Obj.to_pyobject y; Np.Obj.to_pyobject width|] in ();;\n",
    "\n",
    "(* plot deviance *)\n",
    "let test_score =\n",
    "  let score = Np.zeros ~dtype:(`S \"float64\") [n_estimators] in\n",
    "  let _ = Seq.fold_left\n",
    "    (fun i e -> Np.(Ndarray.set ~key:[`I i] ~value:(float (Gbr.loss_ clf y_test e)) score); succ i)\n",
    "    0\n",
    "    (Gbr.staged_predict clf ~x:x_test)\n",
    "  in score\n",
    "in\n",
    "\n",
    "let fig, ax1, ax2 = Fig.create_with_two_axes ~figsize:(12., 6.) `horizontal in\n",
    "\n",
    "let xs = Array.init n_estimators (fun i -> float_of_int (succ i)) in\n",
    "let train_score = Gbr.train_score_ clf |> Np.Ndarray.to_float_array in\n",
    "Ax.set_title ax1 \"Deviance\";\n",
    "Ax.plot ax1 ~label:\"Training Set Deviance\" ~linestyle:Solid ~xs train_score;\n",
    "Ax.plot ax1 ~label:\"Test Set Deviance\" ~linestyle:Solid ~xs (Np.Ndarray.to_float_array test_score);\n",
    "Ax.legend ax1;\n",
    "Ax.set_xlabel ax1 \"Boosting iterations\";\n",
    "Ax.set_ylabel ax1 \"Deviance\";\n",
    "\n",
    "let feature_importance = Gbr.feature_importances_ clf in\n",
    "let feature_importance = Np.((int 100) * feature_importance / (max feature_importance)) in\n",
    "let sorted_idx = Np.argsort feature_importance in\n",
    "let pos = Np.(arange (`I (shape sorted_idx).(0))) in\n",
    "let pos = Np.(pos + (float 0.5)) in\n",
    "Ax.set_title ax2 \"Variable Importance\";\n",
    "barh ax2 pos Np.(Ndarray.get ~key:[mask sorted_idx] feature_importance);\n",
    "set_yticks ax2 pos;\n",
    "set_yticklabels ax2 Np.(Ndarray.get ~key:[mask sorted_idx] (Np.Ndarray.of_string_list boston#feature_names));\n",
    "Ax.set_xlabel ax2 \"Relative Importance\";\n",
    "Ax.set_title ax2 \"Variable Importance\";\n",
    "plot ();;"
   ]
  },
  {
   "cell_type": "code",
   "execution_count": null,
   "metadata": {},
   "outputs": [],
   "source": []
  }
 ],
 "metadata": {
  "kernelspec": {
   "display_name": "OCaml 4.07.1+flambda",
   "language": "OCaml",
   "name": "ocaml-jupyter"
  },
  "language_info": {
   "codemirror_mode": "text/x-ocaml",
   "file_extension": ".ml",
   "mimetype": "text/x-ocaml",
   "name": "OCaml",
   "nbconverter_exporter": null,
   "pygments_lexer": "OCaml",
   "version": "4.07.1"
  }
 },
 "nbformat": 4,
 "nbformat_minor": 4
}
